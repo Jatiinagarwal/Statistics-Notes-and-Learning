{
  "cells": [
    {
      "cell_type": "markdown",
      "id": "374b5cdf-759b-4887-86ae-aa3aa8b7a9e2",
      "metadata": {
        "id": "374b5cdf-759b-4887-86ae-aa3aa8b7a9e2"
      },
      "source": [
        "## F Test With Python"
      ]
    },
    {
      "cell_type": "code",
      "execution_count": null,
      "id": "99f9025f-a499-40d4-a28a-03d90dc1f14d",
      "metadata": {
        "id": "99f9025f-a499-40d4-a28a-03d90dc1f14d"
      },
      "outputs": [],
      "source": [
        "#Evidence to say that the two population variances are not equal.\n",
        "## Check we come to  conclusion whether one worker is better than the other\n",
        "\n",
        "worker1= [18, 19, 22, 25, 27, 28, 41, 45, 51, 55]\n",
        "worker2= [14, 15, 15, 17, 18, 22, 25, 25, 27, 34]"
      ]
    },
    {
      "cell_type": "code",
      "execution_count": null,
      "id": "a03688b2-19c3-4c92-9374-89b447837eba",
      "metadata": {
        "id": "a03688b2-19c3-4c92-9374-89b447837eba"
      },
      "outputs": [],
      "source": [
        "## Calculate the F test statistics\n",
        "import numpy as np\n",
        "f_test=np.var(worker1)/np.var(worker2)"
      ]
    },
    {
      "cell_type": "code",
      "execution_count": null,
      "id": "5cae7638-ff27-4f71-aa77-2881d09b0e83",
      "metadata": {
        "id": "5cae7638-ff27-4f71-aa77-2881d09b0e83",
        "outputId": "fbf9308b-4666-446c-ce9b-9b8189889cad"
      },
      "outputs": [
        {
          "data": {
            "text/plain": [
              "4.387122002085506"
            ]
          },
          "execution_count": 3,
          "metadata": {},
          "output_type": "execute_result"
        }
      ],
      "source": [
        "f_test"
      ]
    },
    {
      "cell_type": "code",
      "execution_count": null,
      "id": "6335b8dc-e997-4e7c-809b-e386b3acbf84",
      "metadata": {
        "id": "6335b8dc-e997-4e7c-809b-e386b3acbf84"
      },
      "outputs": [],
      "source": [
        "## Degree of freedom\n",
        "df1=len(worker1)-1\n",
        "df2=len(worker2)-1\n",
        "significane_value=0.05"
      ]
    },
    {
      "cell_type": "code",
      "execution_count": null,
      "id": "fa3eaf5b-f826-47e7-ad46-57193ba55ba0",
      "metadata": {
        "id": "fa3eaf5b-f826-47e7-ad46-57193ba55ba0"
      },
      "outputs": [],
      "source": [
        "import scipy.stats as stat"
      ]
    },
    {
      "cell_type": "code",
      "execution_count": null,
      "id": "e7e759d7-106b-481d-89d5-3a7a4d81c57b",
      "metadata": {
        "id": "e7e759d7-106b-481d-89d5-3a7a4d81c57b"
      },
      "outputs": [],
      "source": [
        "critical_value=stat.f.ppf(q=1-significane_value,dfn=df1,dfd=df2)"
      ]
    },
    {
      "cell_type": "code",
      "execution_count": null,
      "id": "a32751a7-7bb9-4a8a-beec-8a5074f5b3aa",
      "metadata": {
        "id": "a32751a7-7bb9-4a8a-beec-8a5074f5b3aa",
        "outputId": "34262f15-bc72-41dd-9ef9-bf8eaab93183"
      },
      "outputs": [
        {
          "name": "stdout",
          "output_type": "stream",
          "text": [
            "Reject the Null Hypothesis\n"
          ]
        }
      ],
      "source": [
        "if f_test>critical_value:\n",
        "    print(\"Reject the Null Hypothesis\")\n",
        "else:\n",
        "    print(\"We fail to reject the null hypothesis\")"
      ]
    },
    {
      "cell_type": "code",
      "execution_count": null,
      "id": "dbb15703-dcf0-4ef5-a3d2-a7958b752661",
      "metadata": {
        "id": "dbb15703-dcf0-4ef5-a3d2-a7958b752661"
      },
      "outputs": [],
      "source": []
    },
    {
      "cell_type": "code",
      "execution_count": null,
      "id": "2a0d10db-7720-4fd8-a7e4-fd76091d01e0",
      "metadata": {
        "id": "2a0d10db-7720-4fd8-a7e4-fd76091d01e0"
      },
      "outputs": [],
      "source": []
    },
    {
      "cell_type": "code",
      "execution_count": null,
      "id": "332f32cc-95ef-4b94-b9ee-1ccc29b6a506",
      "metadata": {
        "id": "332f32cc-95ef-4b94-b9ee-1ccc29b6a506"
      },
      "outputs": [],
      "source": []
    },
    {
      "cell_type": "code",
      "execution_count": null,
      "id": "bbb0c8cb-5702-4ec9-a6cc-cf9aa4388098",
      "metadata": {
        "id": "bbb0c8cb-5702-4ec9-a6cc-cf9aa4388098"
      },
      "outputs": [],
      "source": []
    },
    {
      "cell_type": "code",
      "execution_count": null,
      "id": "18c24304-9a3d-42a6-8e8e-555c017b2381",
      "metadata": {
        "id": "18c24304-9a3d-42a6-8e8e-555c017b2381"
      },
      "outputs": [],
      "source": []
    }
  ],
  "metadata": {
    "kernelspec": {
      "display_name": "Python 3 (ipykernel)",
      "language": "python",
      "name": "python3"
    },
    "language_info": {
      "codemirror_mode": {
        "name": "ipython",
        "version": 3
      },
      "file_extension": ".py",
      "mimetype": "text/x-python",
      "name": "python",
      "nbconvert_exporter": "python",
      "pygments_lexer": "ipython3",
      "version": "3.10.8"
    },
    "colab": {
      "provenance": []
    }
  },
  "nbformat": 4,
  "nbformat_minor": 5
}